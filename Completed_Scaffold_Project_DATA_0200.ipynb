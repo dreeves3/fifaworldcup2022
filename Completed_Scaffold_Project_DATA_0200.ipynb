{
  "nbformat": 4,
  "nbformat_minor": 0,
  "metadata": {
    "colab": {
      "provenance": [],
      "toc_visible": true
    },
    "kernelspec": {
      "name": "python3",
      "display_name": "Python 3"
    },
    "language_info": {
      "name": "python"
    }
  },
  "cells": [
    {
      "cell_type": "markdown",
      "source": [
        "# Import Statements and Data Importing"
      ],
      "metadata": {
        "id": "PMl7us1gAw6A"
      }
    },
    {
      "cell_type": "code",
      "execution_count": null,
      "metadata": {
        "id": "riMV-VDe_rb2"
      },
      "outputs": [],
      "source": [
        "#Import statements\n",
        "import pandas as pd\n",
        "\n",
        "!pip install opendatasets\n",
        "\n",
        "import opendatasets as od\n",
        "\n",
        "import numpy as np\n",
        "\n",
        "import scipy.stats as stats\n",
        "\n",
        "import statsmodels.stats.api as smapi\n",
        "\n",
        "import statsmodels.stats.diagnostic as smdog\n",
        "\n",
        "import statsmodels.api as sm\n",
        "\n",
        "import matplotlib as plt"
      ]
    },
    {
      "cell_type": "code",
      "source": [
        "#download Fifa world cup file from kaggle\n",
        "#NOTE: you need your kaggle username and key for this step\n",
        "\n",
        "#username: derekreeves\n",
        "#key:77ce5b35f51476bcb4ef56d8229a23cf\n",
        "od.download('https://www.kaggle.com/datasets/die9origephit/fifa-world-cup-2022-complete-dataset/download?datasetVersionNumber=7')"
      ],
      "metadata": {
        "colab": {
          "base_uri": "https://localhost:8080/"
        },
        "id": "pRIEW9vSfmIq",
        "outputId": "08412c5e-c071-406d-8252-9f97fc8effc7"
      },
      "execution_count": null,
      "outputs": [
        {
          "output_type": "stream",
          "name": "stdout",
          "text": [
            "Please provide your Kaggle credentials to download this dataset. Learn more: http://bit.ly/kaggle-creds\n",
            "Your Kaggle username: derekreeves\n",
            "Your Kaggle Key: ··········\n",
            "Downloading fifa-world-cup-2022-complete-dataset.zip to ./fifa-world-cup-2022-complete-dataset\n"
          ]
        },
        {
          "output_type": "stream",
          "name": "stderr",
          "text": [
            "100%|██████████| 7.42k/7.42k [00:00<00:00, 2.12MB/s]"
          ]
        },
        {
          "output_type": "stream",
          "name": "stdout",
          "text": [
            "\n"
          ]
        },
        {
          "output_type": "stream",
          "name": "stderr",
          "text": [
            "\n"
          ]
        }
      ]
    },
    {
      "cell_type": "code",
      "source": [
        "# Read csv\n",
        "fifa = pd.read_csv(\"/content/fifa-world-cup-2022-complete-dataset/Fifa_world_cup_matches.csv\")\n",
        "# Print dictionary head\n",
        "fifa.head()"
      ],
      "metadata": {
        "colab": {
          "base_uri": "https://localhost:8080/",
          "height": 505
        },
        "id": "kzwC83c7pHiw",
        "outputId": "8765dfd3-8f31-497a-b34c-2d11d1b159bd"
      },
      "execution_count": null,
      "outputs": [
        {
          "output_type": "execute_result",
          "data": {
            "text/plain": [
              "           team1         team2 possession team1 possession team2  \\\n",
              "0          QATAR       ECUADOR              42%              50%   \n",
              "1        ENGLAND          IRAN              72%              19%   \n",
              "2        SENEGAL   NETHERLANDS              44%              45%   \n",
              "3  UNITED STATES         WALES              51%              39%   \n",
              "4      ARGENTINA  SAUDI ARABIA              64%              24%   \n",
              "\n",
              "  possession in contest  number of goals team1  number of goals team2  \\\n",
              "0                    8%                      0                      2   \n",
              "1                    9%                      6                      2   \n",
              "2                   11%                      0                      2   \n",
              "3                   10%                      1                      1   \n",
              "4                   12%                      1                      2   \n",
              "\n",
              "          date     hour category  ...  penalties scored team1  \\\n",
              "0  20 NOV 2022  17 : 00  Group A  ...                       0   \n",
              "1  21 NOV 2022  14 : 00  Group B  ...                       0   \n",
              "2  21 NOV 2022  17 : 00  Group A  ...                       0   \n",
              "3  21 NOV 2022  20 : 00  Group B  ...                       0   \n",
              "4  22 NOV 2022  11 : 00  Group C  ...                       1   \n",
              "\n",
              "   penalties scored team2  goal preventions team1  goal preventions team2  \\\n",
              "0                       1                       6                       5   \n",
              "1                       1                       8                      13   \n",
              "2                       0                       9                      15   \n",
              "3                       1                       7                       7   \n",
              "4                       0                       4                      14   \n",
              "\n",
              "   own goals team1  own goals team2  forced turnovers team1  \\\n",
              "0                0                0                      52   \n",
              "1                0                0                      63   \n",
              "2                0                0                      63   \n",
              "3                0                0                      81   \n",
              "4                0                0                      65   \n",
              "\n",
              "   forced turnovers team2  defensive pressures applied team1  \\\n",
              "0                      72                                256   \n",
              "1                      72                                139   \n",
              "2                      73                                263   \n",
              "3                      72                                242   \n",
              "4                      80                                163   \n",
              "\n",
              "   defensive pressures applied team2  \n",
              "0                                279  \n",
              "1                                416  \n",
              "2                                251  \n",
              "3                                292  \n",
              "4                                361  \n",
              "\n",
              "[5 rows x 88 columns]"
            ],
            "text/html": [
              "\n",
              "  <div id=\"df-2fe70bf6-bf9b-41cd-bd7f-4e6f89bb5984\">\n",
              "    <div class=\"colab-df-container\">\n",
              "      <div>\n",
              "<style scoped>\n",
              "    .dataframe tbody tr th:only-of-type {\n",
              "        vertical-align: middle;\n",
              "    }\n",
              "\n",
              "    .dataframe tbody tr th {\n",
              "        vertical-align: top;\n",
              "    }\n",
              "\n",
              "    .dataframe thead th {\n",
              "        text-align: right;\n",
              "    }\n",
              "</style>\n",
              "<table border=\"1\" class=\"dataframe\">\n",
              "  <thead>\n",
              "    <tr style=\"text-align: right;\">\n",
              "      <th></th>\n",
              "      <th>team1</th>\n",
              "      <th>team2</th>\n",
              "      <th>possession team1</th>\n",
              "      <th>possession team2</th>\n",
              "      <th>possession in contest</th>\n",
              "      <th>number of goals team1</th>\n",
              "      <th>number of goals team2</th>\n",
              "      <th>date</th>\n",
              "      <th>hour</th>\n",
              "      <th>category</th>\n",
              "      <th>...</th>\n",
              "      <th>penalties scored team1</th>\n",
              "      <th>penalties scored team2</th>\n",
              "      <th>goal preventions team1</th>\n",
              "      <th>goal preventions team2</th>\n",
              "      <th>own goals team1</th>\n",
              "      <th>own goals team2</th>\n",
              "      <th>forced turnovers team1</th>\n",
              "      <th>forced turnovers team2</th>\n",
              "      <th>defensive pressures applied team1</th>\n",
              "      <th>defensive pressures applied team2</th>\n",
              "    </tr>\n",
              "  </thead>\n",
              "  <tbody>\n",
              "    <tr>\n",
              "      <th>0</th>\n",
              "      <td>QATAR</td>\n",
              "      <td>ECUADOR</td>\n",
              "      <td>42%</td>\n",
              "      <td>50%</td>\n",
              "      <td>8%</td>\n",
              "      <td>0</td>\n",
              "      <td>2</td>\n",
              "      <td>20 NOV 2022</td>\n",
              "      <td>17 : 00</td>\n",
              "      <td>Group A</td>\n",
              "      <td>...</td>\n",
              "      <td>0</td>\n",
              "      <td>1</td>\n",
              "      <td>6</td>\n",
              "      <td>5</td>\n",
              "      <td>0</td>\n",
              "      <td>0</td>\n",
              "      <td>52</td>\n",
              "      <td>72</td>\n",
              "      <td>256</td>\n",
              "      <td>279</td>\n",
              "    </tr>\n",
              "    <tr>\n",
              "      <th>1</th>\n",
              "      <td>ENGLAND</td>\n",
              "      <td>IRAN</td>\n",
              "      <td>72%</td>\n",
              "      <td>19%</td>\n",
              "      <td>9%</td>\n",
              "      <td>6</td>\n",
              "      <td>2</td>\n",
              "      <td>21 NOV 2022</td>\n",
              "      <td>14 : 00</td>\n",
              "      <td>Group B</td>\n",
              "      <td>...</td>\n",
              "      <td>0</td>\n",
              "      <td>1</td>\n",
              "      <td>8</td>\n",
              "      <td>13</td>\n",
              "      <td>0</td>\n",
              "      <td>0</td>\n",
              "      <td>63</td>\n",
              "      <td>72</td>\n",
              "      <td>139</td>\n",
              "      <td>416</td>\n",
              "    </tr>\n",
              "    <tr>\n",
              "      <th>2</th>\n",
              "      <td>SENEGAL</td>\n",
              "      <td>NETHERLANDS</td>\n",
              "      <td>44%</td>\n",
              "      <td>45%</td>\n",
              "      <td>11%</td>\n",
              "      <td>0</td>\n",
              "      <td>2</td>\n",
              "      <td>21 NOV 2022</td>\n",
              "      <td>17 : 00</td>\n",
              "      <td>Group A</td>\n",
              "      <td>...</td>\n",
              "      <td>0</td>\n",
              "      <td>0</td>\n",
              "      <td>9</td>\n",
              "      <td>15</td>\n",
              "      <td>0</td>\n",
              "      <td>0</td>\n",
              "      <td>63</td>\n",
              "      <td>73</td>\n",
              "      <td>263</td>\n",
              "      <td>251</td>\n",
              "    </tr>\n",
              "    <tr>\n",
              "      <th>3</th>\n",
              "      <td>UNITED STATES</td>\n",
              "      <td>WALES</td>\n",
              "      <td>51%</td>\n",
              "      <td>39%</td>\n",
              "      <td>10%</td>\n",
              "      <td>1</td>\n",
              "      <td>1</td>\n",
              "      <td>21 NOV 2022</td>\n",
              "      <td>20 : 00</td>\n",
              "      <td>Group B</td>\n",
              "      <td>...</td>\n",
              "      <td>0</td>\n",
              "      <td>1</td>\n",
              "      <td>7</td>\n",
              "      <td>7</td>\n",
              "      <td>0</td>\n",
              "      <td>0</td>\n",
              "      <td>81</td>\n",
              "      <td>72</td>\n",
              "      <td>242</td>\n",
              "      <td>292</td>\n",
              "    </tr>\n",
              "    <tr>\n",
              "      <th>4</th>\n",
              "      <td>ARGENTINA</td>\n",
              "      <td>SAUDI ARABIA</td>\n",
              "      <td>64%</td>\n",
              "      <td>24%</td>\n",
              "      <td>12%</td>\n",
              "      <td>1</td>\n",
              "      <td>2</td>\n",
              "      <td>22 NOV 2022</td>\n",
              "      <td>11 : 00</td>\n",
              "      <td>Group C</td>\n",
              "      <td>...</td>\n",
              "      <td>1</td>\n",
              "      <td>0</td>\n",
              "      <td>4</td>\n",
              "      <td>14</td>\n",
              "      <td>0</td>\n",
              "      <td>0</td>\n",
              "      <td>65</td>\n",
              "      <td>80</td>\n",
              "      <td>163</td>\n",
              "      <td>361</td>\n",
              "    </tr>\n",
              "  </tbody>\n",
              "</table>\n",
              "<p>5 rows × 88 columns</p>\n",
              "</div>\n",
              "      <button class=\"colab-df-convert\" onclick=\"convertToInteractive('df-2fe70bf6-bf9b-41cd-bd7f-4e6f89bb5984')\"\n",
              "              title=\"Convert this dataframe to an interactive table.\"\n",
              "              style=\"display:none;\">\n",
              "        \n",
              "  <svg xmlns=\"http://www.w3.org/2000/svg\" height=\"24px\"viewBox=\"0 0 24 24\"\n",
              "       width=\"24px\">\n",
              "    <path d=\"M0 0h24v24H0V0z\" fill=\"none\"/>\n",
              "    <path d=\"M18.56 5.44l.94 2.06.94-2.06 2.06-.94-2.06-.94-.94-2.06-.94 2.06-2.06.94zm-11 1L8.5 8.5l.94-2.06 2.06-.94-2.06-.94L8.5 2.5l-.94 2.06-2.06.94zm10 10l.94 2.06.94-2.06 2.06-.94-2.06-.94-.94-2.06-.94 2.06-2.06.94z\"/><path d=\"M17.41 7.96l-1.37-1.37c-.4-.4-.92-.59-1.43-.59-.52 0-1.04.2-1.43.59L10.3 9.45l-7.72 7.72c-.78.78-.78 2.05 0 2.83L4 21.41c.39.39.9.59 1.41.59.51 0 1.02-.2 1.41-.59l7.78-7.78 2.81-2.81c.8-.78.8-2.07 0-2.86zM5.41 20L4 18.59l7.72-7.72 1.47 1.35L5.41 20z\"/>\n",
              "  </svg>\n",
              "      </button>\n",
              "      \n",
              "  <style>\n",
              "    .colab-df-container {\n",
              "      display:flex;\n",
              "      flex-wrap:wrap;\n",
              "      gap: 12px;\n",
              "    }\n",
              "\n",
              "    .colab-df-convert {\n",
              "      background-color: #E8F0FE;\n",
              "      border: none;\n",
              "      border-radius: 50%;\n",
              "      cursor: pointer;\n",
              "      display: none;\n",
              "      fill: #1967D2;\n",
              "      height: 32px;\n",
              "      padding: 0 0 0 0;\n",
              "      width: 32px;\n",
              "    }\n",
              "\n",
              "    .colab-df-convert:hover {\n",
              "      background-color: #E2EBFA;\n",
              "      box-shadow: 0px 1px 2px rgba(60, 64, 67, 0.3), 0px 1px 3px 1px rgba(60, 64, 67, 0.15);\n",
              "      fill: #174EA6;\n",
              "    }\n",
              "\n",
              "    [theme=dark] .colab-df-convert {\n",
              "      background-color: #3B4455;\n",
              "      fill: #D2E3FC;\n",
              "    }\n",
              "\n",
              "    [theme=dark] .colab-df-convert:hover {\n",
              "      background-color: #434B5C;\n",
              "      box-shadow: 0px 1px 3px 1px rgba(0, 0, 0, 0.15);\n",
              "      filter: drop-shadow(0px 1px 2px rgba(0, 0, 0, 0.3));\n",
              "      fill: #FFFFFF;\n",
              "    }\n",
              "  </style>\n",
              "\n",
              "      <script>\n",
              "        const buttonEl =\n",
              "          document.querySelector('#df-2fe70bf6-bf9b-41cd-bd7f-4e6f89bb5984 button.colab-df-convert');\n",
              "        buttonEl.style.display =\n",
              "          google.colab.kernel.accessAllowed ? 'block' : 'none';\n",
              "\n",
              "        async function convertToInteractive(key) {\n",
              "          const element = document.querySelector('#df-2fe70bf6-bf9b-41cd-bd7f-4e6f89bb5984');\n",
              "          const dataTable =\n",
              "            await google.colab.kernel.invokeFunction('convertToInteractive',\n",
              "                                                     [key], {});\n",
              "          if (!dataTable) return;\n",
              "\n",
              "          const docLinkHtml = 'Like what you see? Visit the ' +\n",
              "            '<a target=\"_blank\" href=https://colab.research.google.com/notebooks/data_table.ipynb>data table notebook</a>'\n",
              "            + ' to learn more about interactive tables.';\n",
              "          element.innerHTML = '';\n",
              "          dataTable['output_type'] = 'display_data';\n",
              "          await google.colab.output.renderOutput(dataTable, element);\n",
              "          const docLink = document.createElement('div');\n",
              "          docLink.innerHTML = docLinkHtml;\n",
              "          element.appendChild(docLink);\n",
              "        }\n",
              "      </script>\n",
              "    </div>\n",
              "  </div>\n",
              "  "
            ]
          },
          "metadata": {},
          "execution_count": 6
        }
      ]
    },
    {
      "cell_type": "markdown",
      "source": [
        "# Scaffold 1 and 2 code"
      ],
      "metadata": {
        "id": "ZKDtRzlhAdup"
      }
    },
    {
      "cell_type": "code",
      "source": [
        "#checking the datatype of each column\n",
        "#note that date and time is not converted to a time datatype because it is not\n",
        "# necessary for our analysis\n",
        "fifa.info()"
      ],
      "metadata": {
        "colab": {
          "base_uri": "https://localhost:8080/"
        },
        "id": "JF3XVXmBpgQH",
        "outputId": "f8c46f2b-09c6-4358-dbaf-9abf5b9937ae"
      },
      "execution_count": null,
      "outputs": [
        {
          "output_type": "stream",
          "name": "stdout",
          "text": [
            "<class 'pandas.core.frame.DataFrame'>\n",
            "RangeIndex: 64 entries, 0 to 63\n",
            "Data columns (total 88 columns):\n",
            " #   Column                                                 Non-Null Count  Dtype \n",
            "---  ------                                                 --------------  ----- \n",
            " 0   team1                                                  64 non-null     object\n",
            " 1   team2                                                  64 non-null     object\n",
            " 2   possession team1                                       64 non-null     int64 \n",
            " 3   possession team2                                       64 non-null     int64 \n",
            " 4   possession in contest                                  64 non-null     object\n",
            " 5   number of goals team1                                  64 non-null     int64 \n",
            " 6   number of goals team2                                  64 non-null     int64 \n",
            " 7   date                                                   64 non-null     object\n",
            " 8   hour                                                   64 non-null     object\n",
            " 9   category                                               64 non-null     object\n",
            " 10  total attempts team1                                   64 non-null     int64 \n",
            " 11  total attempts team2                                   64 non-null     int64 \n",
            " 12  conceded team1                                         64 non-null     int64 \n",
            " 13  conceded team2                                         64 non-null     int64 \n",
            " 14  goal inside the penalty area team1                     64 non-null     int64 \n",
            " 15  goal inside the penalty area team2                     64 non-null     int64 \n",
            " 16  goal outside the penalty area team1                    64 non-null     int64 \n",
            " 17  goal outside the penalty area team2                    64 non-null     int64 \n",
            " 18  assists team1                                          64 non-null     int64 \n",
            " 19  assists team2                                          64 non-null     int64 \n",
            " 20  on target attempts team1                               64 non-null     int64 \n",
            " 21  on target attempts team2                               64 non-null     int64 \n",
            " 22  off target attempts team1                              64 non-null     int64 \n",
            " 23  off target attempts team2                              64 non-null     int64 \n",
            " 24  attempts inside the penalty area team1                 64 non-null     int64 \n",
            " 25  attempts inside the penalty area  team2                64 non-null     int64 \n",
            " 26  attempts outside the penalty area  team1               64 non-null     int64 \n",
            " 27  attempts outside the penalty area  team2               64 non-null     int64 \n",
            " 28  left channel team1                                     64 non-null     int64 \n",
            " 29  left channel team2                                     64 non-null     int64 \n",
            " 30  left inside channel team1                              64 non-null     int64 \n",
            " 31  left inside channel team2                              64 non-null     int64 \n",
            " 32  central channel team1                                  64 non-null     int64 \n",
            " 33  central channel team2                                  64 non-null     int64 \n",
            " 34  right inside channel team1                             64 non-null     int64 \n",
            " 35  right inside channel team2                             64 non-null     int64 \n",
            " 36  right channel team1                                    64 non-null     int64 \n",
            " 37  right channel team2                                    64 non-null     int64 \n",
            " 38  total offers to receive team1                          64 non-null     int64 \n",
            " 39  total offers to receive team2                          64 non-null     int64 \n",
            " 40  inbehind offers to receive team1                       64 non-null     int64 \n",
            " 41  inbehind offers to receive team2                       64 non-null     int64 \n",
            " 42  inbetween offers to receive team1                      64 non-null     int64 \n",
            " 43  inbetween offers to receive team2                      64 non-null     int64 \n",
            " 44  infront offers to receive team1                        64 non-null     int64 \n",
            " 45  infront offers to receive team2                        64 non-null     int64 \n",
            " 46  receptions between midfield and defensive lines team1  64 non-null     int64 \n",
            " 47  receptions between midfield and defensive lines team2  64 non-null     int64 \n",
            " 48  attempted line breaks team1                            64 non-null     int64 \n",
            " 49  attempted line breaks team2                            64 non-null     int64 \n",
            " 50  completed line breaksteam1                             64 non-null     int64 \n",
            " 51  completed line breaks team2                            64 non-null     int64 \n",
            " 52  attempted defensive line breaks team1                  64 non-null     int64 \n",
            " 53  attempted defensive line breaks team2                  64 non-null     int64 \n",
            " 54  completed defensive line breaksteam1                   64 non-null     int64 \n",
            " 55  completed defensive line breaks team2                  64 non-null     int64 \n",
            " 56  yellow cards team1                                     64 non-null     int64 \n",
            " 57  yellow cards team2                                     64 non-null     int64 \n",
            " 58  red cards team1                                        64 non-null     int64 \n",
            " 59  red cards team2                                        64 non-null     int64 \n",
            " 60  fouls against team1                                    64 non-null     int64 \n",
            " 61  fouls against team2                                    64 non-null     int64 \n",
            " 62  offsides team1                                         64 non-null     int64 \n",
            " 63  offsides team2                                         64 non-null     int64 \n",
            " 64  passes team1                                           64 non-null     int64 \n",
            " 65  passes team2                                           64 non-null     int64 \n",
            " 66  passes completed team1                                 64 non-null     int64 \n",
            " 67  passes completed team2                                 64 non-null     int64 \n",
            " 68  crosses team1                                          64 non-null     int64 \n",
            " 69  crosses team2                                          64 non-null     int64 \n",
            " 70  crosses completed team1                                64 non-null     int64 \n",
            " 71  crosses completed team2                                64 non-null     int64 \n",
            " 72  switches of play completed team1                       64 non-null     int64 \n",
            " 73  switches of play completed team2                       64 non-null     int64 \n",
            " 74  corners team1                                          64 non-null     int64 \n",
            " 75  corners team2                                          64 non-null     int64 \n",
            " 76  free kicks team1                                       64 non-null     int64 \n",
            " 77  free kicks team2                                       64 non-null     int64 \n",
            " 78  penalties scored team1                                 64 non-null     int64 \n",
            " 79  penalties scored team2                                 64 non-null     int64 \n",
            " 80  goal preventions team1                                 64 non-null     int64 \n",
            " 81  goal preventions team2                                 64 non-null     int64 \n",
            " 82  own goals team1                                        64 non-null     int64 \n",
            " 83  own goals team2                                        64 non-null     int64 \n",
            " 84  forced turnovers team1                                 64 non-null     int64 \n",
            " 85  forced turnovers team2                                 64 non-null     int64 \n",
            " 86  defensive pressures applied team1                      64 non-null     int64 \n",
            " 87  defensive pressures applied team2                      64 non-null     int64 \n",
            "dtypes: int64(82), object(6)\n",
            "memory usage: 44.1+ KB\n"
          ]
        }
      ]
    },
    {
      "cell_type": "code",
      "source": [
        "#quick clean to int for analysis\n",
        "fifa['possession team1'] = fifa['possession team1'].str.replace('%', '').astype(int)\n",
        "fifa['possession team2'] = fifa['possession team2'].str.replace('%', '').astype(int)"
      ],
      "metadata": {
        "id": "9LiRKRw0fsWL"
      },
      "execution_count": null,
      "outputs": []
    },
    {
      "cell_type": "code",
      "source": [
        "\n",
        "def pos_finder(x):\n",
        "#creates an average possession stat for the team inputted'''\n",
        "  team = fifa[(fifa.team1 == x) | (fifa.team2 == x)]\n",
        "  a = team[team.team1 == x]['possession team1'].sum()\n",
        "  b = team[team.team2 == x]['possession team2'].sum()\n",
        "  return (a + b) / len(team)"
      ],
      "metadata": {
        "id": "ftcd9Qowf0p7"
      },
      "execution_count": null,
      "outputs": []
    },
    {
      "cell_type": "code",
      "source": [
        "def throughballs(x):\n",
        "#creates an average throughballs per total offers to receive stat for the team inputted'''\n",
        "  team = fifa[(fifa.team1 == x) | (fifa.team2 == x)]\n",
        "\n",
        "  team.loc[team.team1 == x, 'throughball_prop_team1'] = (team.loc[team.team1 == x,'inbehind offers to receive team1']) / (team.loc[team.team1 == x, 'total offers to receive team1'])\n",
        "  team.loc[team.team2 == x, 'throughball_prop_team2'] = (team.loc[team.team2 == x, 'inbehind offers to receive team2']) / (team.loc[team.team2 == x, 'total offers to receive team2'])\n",
        "  a = team['throughball_prop_team1'].sum()\n",
        "  b = team['throughball_prop_team2'].sum()\n",
        "  return (a + b) / len(team)"
      ],
      "metadata": {
        "id": "jmGVYnjNf0y_"
      },
      "execution_count": null,
      "outputs": []
    },
    {
      "cell_type": "code",
      "source": [
        "def def_breaks(x):\n",
        "#creates a stat for total defensive line breaks per total line breaks (attemped or not)'''\n",
        "  team = fifa[(fifa.team1 == x) | (fifa.team2 == x)]\n",
        "\n",
        "  team.loc[team.team1 == x, 'linebreaks_prop_team1'] = (team.loc[team.team1 == x,'completed defensive line breaksteam1']) / (team.loc[team.team1 == x, 'attempted defensive line breaks team1'])\n",
        "  team.loc[team.team2 == x, 'linebreaks_prop_team2'] = (team.loc[team.team2 == x, 'completed defensive line breaks team2']) / (team.loc[team.team2 == x, 'attempted defensive line breaks team2'])\n",
        "  a = team['linebreaks_prop_team1'].sum()\n",
        "  b = team['linebreaks_prop_team2'].sum()\n",
        "  return (a + b) / len(team)"
      ],
      "metadata": {
        "id": "3b_0s22Qf4m9"
      },
      "execution_count": null,
      "outputs": []
    },
    {
      "cell_type": "code",
      "source": [
        "def passes_completed(x):\n",
        "#creates an average possession stat for the team inputted'''\n",
        "  team = fifa[(fifa.team1 == x) | (fifa.team2 == x)]\n",
        "  a = team[team.team1 == x]['passes completed team1'].sum()\n",
        "  b = team[team.team2 == x]['passes completed team2'].sum()\n",
        "  return (a + b) / len(team)"
      ],
      "metadata": {
        "id": "hc7ZlpWkf6hh"
      },
      "execution_count": null,
      "outputs": []
    },
    {
      "cell_type": "code",
      "source": [
        "def total_gd(x):\n",
        "  team = fifa[(fifa.team1 == x) | (fifa.team2 == x)]\n",
        "  a = team[team.team1 == x]['number of goals team1'].sum()\n",
        "  b = team[team.team2 == x]['number of goals team2'].sum()\n",
        "  c = team[team.team1 == x]['conceded team1'].sum()\n",
        "  d = team[team.team2 == x]['conceded team2'].sum()\n",
        "  return (a + b) - (c + d)\n",
        "#total goal difference"
      ],
      "metadata": {
        "id": "zWcLHd5Af8K2"
      },
      "execution_count": null,
      "outputs": []
    },
    {
      "cell_type": "code",
      "source": [
        "def line_breaks(x):\n",
        "#number of times a team breaks their opponent's defensive structure per game on average\n",
        "  team = fifa[(fifa.team1 == x) | (fifa.team2 == x)]\n",
        "  a = team[team.team1 == x]['attempted line breaks team1'].sum()\n",
        "  b = team[team.team2 == x]['attempted line breaks team2'].sum()\n",
        "  return (a + b) / len(team)"
      ],
      "metadata": {
        "id": "1J3NIhirf9_y"
      },
      "execution_count": null,
      "outputs": []
    },
    {
      "cell_type": "code",
      "source": [
        "def defensive_pressures(x):\n",
        "#number of defensive pressures applied per game on average\n",
        "  team = fifa[(fifa.team1 == x) | (fifa.team2 == x)]\n",
        "  a = team[team.team1 == x]['defensive pressures applied team1'].sum()\n",
        "  b = team[team.team2 == x]['defensive pressures applied team2'].sum()\n",
        "  return (a + b) / len(team)"
      ],
      "metadata": {
        "id": "A0v3iQ9Pf_3-"
      },
      "execution_count": null,
      "outputs": []
    },
    {
      "cell_type": "code",
      "source": [
        "def crosses(x):\n",
        "#number of crosses per game on average\n",
        "  team = fifa[(fifa.team1 == x) | (fifa.team2 == x)]\n",
        "  team.loc[team.team1 == x, 'crosses_prop_team1'] = (team.loc[team.team1 == x,'crosses team1']) / (team.loc[team.team1 == x, 'passes team1'])\n",
        "  team.loc[team.team2 == x, 'crosses_prop_team2'] = (team.loc[team.team2 == x, 'crosses team2']) / (team.loc[team.team2 == x, 'passes team2'])\n",
        "  a = team['crosses_prop_team1'].sum()\n",
        "  b = team['crosses_prop_team2'].sum()\n",
        "  return (a + b) / len(team)"
      ],
      "metadata": {
        "id": "0-8GB-BDgBTf"
      },
      "execution_count": null,
      "outputs": []
    },
    {
      "cell_type": "code",
      "source": [
        "def switches(x):\n",
        "#number of switches of play per game on average\n",
        "  team = fifa[(fifa.team1 == x) | (fifa.team2 == x)]\n",
        "  a = team[team.team1 == x]['switches of play completed team1'].sum()\n",
        "  b = team[team.team2 == x]['switches of play completed team2'].sum()\n",
        "  return (a + b) / len(team)"
      ],
      "metadata": {
        "id": "UlESuP7VgCx1"
      },
      "execution_count": null,
      "outputs": []
    },
    {
      "cell_type": "code",
      "source": [
        "#creates new fifa_teams dataset to study teams rather than matches\n",
        "temp =[]\n",
        "for i in fifa.team1.unique():\n",
        "  temp.append(\n",
        "        {\n",
        "            'Team': i,\n",
        "            'Average possession per game': pos_finder(i),\n",
        "            'Average throughballs per total attempted offers to receive per game': throughballs(i),\n",
        "            'completed defensive line breaks per attempted defensive line break': def_breaks(i),\n",
        "            'Average passes completed per game': passes_completed(i),\n",
        "            'Total goal difference': total_gd(i),\n",
        "            'Average attempted line breaks per game': line_breaks(i),\n",
        "            'Average defensive pressures applied per game': defensive_pressures(i),\n",
        "            'Average crosses per pass per game': crosses(i),\n",
        "            'Average switches of play': switches(i)\n",
        "        }\n",
        "    )\n",
        "fifa_teams = pd.DataFrame(temp)"
      ],
      "metadata": {
        "id": "Vu70ksgRgNEG"
      },
      "execution_count": null,
      "outputs": []
    },
    {
      "cell_type": "code",
      "source": [
        "#assigns our categories based off possession\n",
        "fifa_teams.loc[fifa_teams['Average possession per game'] > 50, 'Playstyle'] = 'Possession'\n",
        "fifa_teams.loc[fifa_teams['Average possession per game'] <= 50, 'Playstyle'] = 'Counterattacking'"
      ],
      "metadata": {
        "id": "mRV1UXBggXu3"
      },
      "execution_count": null,
      "outputs": []
    },
    {
      "cell_type": "markdown",
      "source": [
        "# Scaffold 3 and 4 code"
      ],
      "metadata": {
        "id": "z8nZgvrgAcwt"
      }
    },
    {
      "cell_type": "markdown",
      "source": [
        " **T-Tests**"
      ],
      "metadata": {
        "id": "6QSS6ZMSUEsH"
      }
    },
    {
      "cell_type": "code",
      "source": [
        "#2 sample T-test to see if there is a difference in goal difference between the two playstyles\n",
        "stats.ttest_ind(fifa_teams.loc[fifa_teams['Playstyle'] == 'Possession', 'Total goal difference'], fifa_teams.loc[fifa_teams['Playstyle'] == 'Counterattacking', 'Total goal difference'], nan_policy='omit')"
      ],
      "metadata": {
        "colab": {
          "base_uri": "https://localhost:8080/"
        },
        "id": "RS7k37VKgY3-",
        "outputId": "270d359c-4986-493e-b788-73e9ff1419ff"
      },
      "execution_count": null,
      "outputs": [
        {
          "output_type": "execute_result",
          "data": {
            "text/plain": [
              "Ttest_indResult(statistic=3.92433766622614, pvalue=0.0004699069561601322)"
            ]
          },
          "metadata": {},
          "execution_count": 39
        }
      ]
    },
    {
      "cell_type": "code",
      "source": [
        "#1 sample T-test on goal difference of possession. Comparing against null hypothesis of goal diff = 0\n",
        "stats.ttest_1samp(fifa_teams.loc[fifa_teams['Playstyle'] == 'Possession', 'Total goal difference'], popmean = 0, alternative = 'two-sided', nan_policy='omit')"
      ],
      "metadata": {
        "colab": {
          "base_uri": "https://localhost:8080/"
        },
        "id": "VEHaBDWlgbzT",
        "outputId": "99e0ef91-417b-4235-bd59-6420b9531c40"
      },
      "execution_count": null,
      "outputs": [
        {
          "output_type": "execute_result",
          "data": {
            "text/plain": [
              "TtestResult(statistic=3.1999999999999993, pvalue=0.018600059024840153, df=6)"
            ]
          },
          "metadata": {},
          "execution_count": 20
        }
      ]
    },
    {
      "cell_type": "code",
      "source": [
        "#1 sample T-test on goal difference of counterattacking. Comparing against null hypothesis of goal diff = 0\n",
        "stats.ttest_1samp(fifa_teams.loc[fifa_teams['Playstyle'] == 'Counterattacking', 'Total goal difference'], popmean = 0, alternative = 'two-sided', nan_policy='omit')"
      ],
      "metadata": {
        "colab": {
          "base_uri": "https://localhost:8080/"
        },
        "id": "nCDAly2sge25",
        "outputId": "6a78b9ed-8568-4fa4-94a0-ca0547fe4120"
      },
      "execution_count": null,
      "outputs": [
        {
          "output_type": "execute_result",
          "data": {
            "text/plain": [
              "TtestResult(statistic=-1.8769485288138603, pvalue=0.07273447406175182, df=24)"
            ]
          },
          "metadata": {},
          "execution_count": 21
        }
      ]
    },
    {
      "cell_type": "code",
      "source": [
        "#boxplot of the values of the fifa_teams dataset. From this we can find the means of the counterattacking and possession based teams that we can use in combination with the t-tests above\n",
        "fifa_teams.boxplot(column = 'Total goal difference', by = 'Playstyle')"
      ],
      "metadata": {
        "colab": {
          "base_uri": "https://localhost:8080/",
          "height": 495
        },
        "id": "Iz_z1338xF8L",
        "outputId": "1718e18e-03f1-47dc-bbd4-0770f2f9cdc4"
      },
      "execution_count": null,
      "outputs": [
        {
          "output_type": "execute_result",
          "data": {
            "text/plain": [
              "<Axes: title={'center': 'Total goal difference'}, xlabel='Playstyle'>"
            ]
          },
          "metadata": {},
          "execution_count": 41
        },
        {
          "output_type": "display_data",
          "data": {
            "text/plain": [
              "<Figure size 640x480 with 1 Axes>"
            ],
            "image/png": "[encoded data removed]"
          },
          "metadata": {}
        }
      ]
    },
    {
      "cell_type": "markdown",
      "source": [
        " **Assumptions Tests**"
      ],
      "metadata": {
        "id": "NBOmHOClULEV"
      }
    },
    {
      "cell_type": "code",
      "source": [
        "#Possession data normality test (Anderson Darling)\n",
        "#p value on the right\n",
        "smapi.normal_ad(fifa_teams.loc[fifa_teams['Playstyle'] == 'Possession', 'Total goal difference'])\n",
        "\n",
        "#the P value is well above .05, indicating definite normality for the goal difference distribution of the possession group"
      ],
      "metadata": {
        "colab": {
          "base_uri": "https://localhost:8080/"
        },
        "id": "RwqLAy4mi8wa",
        "outputId": "99d0dd9a-7e55-45dd-9b0f-9be676497c69"
      },
      "execution_count": null,
      "outputs": [
        {
          "output_type": "execute_result",
          "data": {
            "text/plain": [
              "(0.40313539250676733, 0.2542253045047043)"
            ]
          },
          "metadata": {},
          "execution_count": 23
        }
      ]
    },
    {
      "cell_type": "code",
      "source": [
        "#QQ plot of possession goal difference to show normality\n",
        "sm.qqplot(fifa_teams.loc[fifa_teams['Playstyle'] == 'Possession', 'Total goal difference']).show\n",
        "\n",
        "#the graph supports the Anderson-Darling test, showing that the data is normally distributed"
      ],
      "metadata": {
        "colab": {
          "base_uri": "https://localhost:8080/",
          "height": 466
        },
        "id": "LhGzIsxsQvmK",
        "outputId": "3d6b4ab6-e79e-45aa-d7b0-727dc026d4b2"
      },
      "execution_count": null,
      "outputs": [
        {
          "output_type": "execute_result",
          "data": {
            "text/plain": [
              "<bound method Figure.show of <Figure size 640x480 with 1 Axes>>"
            ]
          },
          "metadata": {},
          "execution_count": 24
        },
        {
          "output_type": "display_data",
          "data": {
            "text/plain": [
              "<Figure size 640x480 with 1 Axes>"
            ],
            "image/png": "[encoded data removed]"
          },
          "metadata": {}
        }
      ]
    },
    {
      "cell_type": "code",
      "source": [
        "#Counterattacking data normality test (Anderson Darling)\n",
        "#p value on the right\n",
        "smapi.normal_ad(fifa_teams.loc[fifa_teams['Playstyle'] == 'Counterattacking', 'Total goal difference'])\n",
        "\n",
        "#the p value is just barely above the .05 threshold, which is shows that the distribution of goal differences across counterattacking teams is only JUST normal"
      ],
      "metadata": {
        "colab": {
          "base_uri": "https://localhost:8080/"
        },
        "id": "eP1CteWIim0N",
        "outputId": "44d13408-7c17-4846-834f-1a7f32f057d9"
      },
      "execution_count": null,
      "outputs": [
        {
          "output_type": "execute_result",
          "data": {
            "text/plain": [
              "(0.6424475678753367, 0.0829873162868664)"
            ]
          },
          "metadata": {},
          "execution_count": 25
        }
      ]
    },
    {
      "cell_type": "code",
      "source": [
        "#QQ plot of counterattacking goal difference to show normality\n",
        "sm.qqplot(fifa_teams.loc[fifa_teams['Playstyle'] == 'Counterattacking', 'Total goal difference']).show\n",
        "\n",
        "#this plot supports our previous assessment from the Anderson-Darling test that the data is only just barely normally distributed"
      ],
      "metadata": {
        "colab": {
          "base_uri": "https://localhost:8080/",
          "height": 466
        },
        "id": "O_Lq0I78T4yK",
        "outputId": "5b57f684-35fa-4960-a341-73840fcde8cd"
      },
      "execution_count": null,
      "outputs": [
        {
          "output_type": "execute_result",
          "data": {
            "text/plain": [
              "<bound method Figure.show of <Figure size 640x480 with 1 Axes>>"
            ]
          },
          "metadata": {},
          "execution_count": 26
        },
        {
          "output_type": "display_data",
          "data": {
            "text/plain": [
              "<Figure size 640x480 with 1 Axes>"
            ],
            "image/png": "[encoded data removed]"
          },
          "metadata": {}
        }
      ]
    },
    {
      "cell_type": "code",
      "source": [
        "#Variance test\n",
        "\n",
        "#calculates and stores the variance of total goal difference for possession teams\n",
        "#The bracketed '2' at the end pulls the Standard Deviation directly from the describe function. We then square it to find the variance\n",
        "var_possession = fifa_teams.loc[fifa_teams['Playstyle'] == 'Possession', 'Total goal difference'].describe()[2]**2\n",
        "\n",
        "#does the same thing for the variance of total goal difference for counterattacking teams\n",
        "var_counterattacking = fifa_teams.loc[fifa_teams['Playstyle'] == 'Counterattacking', 'Total goal difference'].describe()[2]**2\n",
        "\n",
        "#finds the variance ratio. The ratio is not over 4 so therefore we have passed the variance test.\n",
        "print(var_possession/var_counterattacking)"
      ],
      "metadata": {
        "colab": {
          "base_uri": "https://localhost:8080/"
        },
        "id": "-rZLnUccn0-o",
        "outputId": "b67dc981-a664-4a0e-a3e4-6b2c27ebbca6"
      },
      "execution_count": null,
      "outputs": [
        {
          "output_type": "stream",
          "name": "stdout",
          "text": [
            "1.2287024901703802\n"
          ]
        }
      ]
    }
  ]
}